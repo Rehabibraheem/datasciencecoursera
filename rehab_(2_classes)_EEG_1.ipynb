{
  "nbformat": 4,
  "nbformat_minor": 0,
  "metadata": {
    "colab": {
      "provenance": [],
      "include_colab_link": true
    },
    "kernelspec": {
      "name": "python3",
      "display_name": "Python 3"
    },
    "language_info": {
      "name": "python"
    }
  },
  "cells": [
    {
      "cell_type": "markdown",
      "metadata": {
        "id": "view-in-github",
        "colab_type": "text"
      },
      "source": [
        "<a href=\"https://colab.research.google.com/github/Rehabibraheem/datasciencecoursera/blob/master/rehab_(2_classes)_EEG_1.ipynb\" target=\"_parent\"><img src=\"https://colab.research.google.com/assets/colab-badge.svg\" alt=\"Open In Colab\"/></a>"
      ]
    },
    {
      "cell_type": "code",
      "execution_count": null,
      "metadata": {
        "id": "bHDoE-ZfSxEI"
      },
      "outputs": [],
      "source": []
    },
    {
      "cell_type": "code",
      "execution_count": 1,
      "metadata": {
        "colab": {
          "base_uri": "https://localhost:8080/"
        },
        "id": "Dc-btajr3AjA",
        "outputId": "99de5317-5bf8-4551-a417-dacfd7dac780"
      },
      "outputs": [
        {
          "output_type": "stream",
          "name": "stdout",
          "text": [
            "Mounted at drive\n"
          ]
        }
      ],
      "source": [
        "from google.colab import drive\n",
        "drive.mount('drive')"
      ]
    },
    {
      "cell_type": "code",
      "source": [
        "import numpy as np\n",
        "from scipy.io import loadmat\n",
        "import matplotlib.pyplot as plt\n",
        "import librosa\n"
      ],
      "metadata": {
        "id": "2RXDg9dgXyUz"
      },
      "execution_count": 2,
      "outputs": []
    },
    {
      "cell_type": "code",
      "source": [
        "from google.colab import drive\n",
        "drive.mount('/content/drive')"
      ],
      "metadata": {
        "colab": {
          "base_uri": "https://localhost:8080/"
        },
        "id": "raNo8WNJZJm4",
        "outputId": "036d91be-50c3-422b-f0e1-04eaff61c43d"
      },
      "execution_count": 3,
      "outputs": [
        {
          "output_type": "stream",
          "name": "stdout",
          "text": [
            "Drive already mounted at /content/drive; to attempt to forcibly remount, call drive.mount(\"/content/drive\", force_remount=True).\n"
          ]
        }
      ]
    },
    {
      "cell_type": "code",
      "source": [
        "#Egg_file=loadmat('/content/drive/MyDrive/Rehab_Egg_code/BCICIV_calib_ds1d.mat')\n",
        "Egg_file=loadmat('/content/drive/MyDrive/Colab Notebooks/project/BCICIV_1_mat.zip (Unzipped Files)/BCICIV_calib_ds1e.mat')"
      ],
      "metadata": {
        "id": "1HJ5-JPHXgjS"
      },
      "execution_count": 5,
      "outputs": []
    },
    {
      "cell_type": "code",
      "source": [
        "data=Egg_file['cnt']\n",
        "Pos=Egg_file['mrk']['pos'][:,0].item().ravel()\n",
        "Tag=Egg_file['mrk']['y'][:,0].item().ravel()\n",
        "fs=Egg_file['nfo']['fs'][0,0].item()"
      ],
      "metadata": {
        "id": "uj4nStVGX29y"
      },
      "execution_count": 6,
      "outputs": []
    },
    {
      "cell_type": "code",
      "source": [],
      "metadata": {
        "id": "QmCCM3b6cqHu"
      },
      "execution_count": null,
      "outputs": []
    },
    {
      "cell_type": "markdown",
      "source": [
        "## Construct signal Frames"
      ],
      "metadata": {
        "id": "ddm8eArSe4ZO"
      }
    },
    {
      "cell_type": "code",
      "source": [
        "from sklearn import preprocessing\n",
        "#import emd\n",
        "#N_Ch=5\n",
        "Tn=Tag.shape[0]\n",
        "Frames=np.ones((Tn,250))\n",
        "c=0\n",
        "shift=40\n",
        "for t in range(0,200):\n",
        "    #for c in range(0,N_Ch):\n",
        "        s0 = data[Pos[t]+shift:Pos[t] + 250+shift,0]\n",
        "        s1 = data[Pos[t]+shift:Pos[t] + 250+shift,1]\n",
        "        s2 = data[Pos[t]+shift:Pos[t] + 250+shift,2]\n",
        "        s=s0+s1+s2\n",
        "        x=s #(s*np.hamming(nfft))\n",
        "        nx=(x - np.mean(x)) / np.max(np.abs(x - np.mean(x)))\n",
        "        Frames[t,:] =nx\n",
        "\n",
        "    #s = xx  # Assuming signal and winfunc are defined elsewhere for simplicity\n",
        "    #sw = s * winfunc\n",
        "    #x = sw\n",
        "    #y[t, 0] = Dn[t]\n",
        "    #ss,_=librosa.effects.trim(nx,top_db=190)\n"
      ],
      "metadata": {
        "id": "cRKmB3h9jekg"
      },
      "execution_count": 7,
      "outputs": []
    },
    {
      "cell_type": "code",
      "source": [
        "del s,x,nx,c,t,shift"
      ],
      "metadata": {
        "id": "b9Hpk1Bh-eLQ"
      },
      "execution_count": 8,
      "outputs": []
    },
    {
      "cell_type": "code",
      "source": [
        "N_mel=40\n",
        "mfcc_xc=librosa.feature.mfcc(y=Frames, sr=fs,n_mfcc=N_mel,n_fft=64,hop_length=32,htk=True,fmin=5,fmax=30,dct_type=2)\n",
        "ID_mfcc = mfcc_xc.reshape((Tn), -1)"
      ],
      "metadata": {
        "id": "Co4eQ4NaugsG",
        "colab": {
          "base_uri": "https://localhost:8080/"
        },
        "outputId": "d8aa44e6-3730-48da-e11b-8df136d55762"
      },
      "execution_count": 9,
      "outputs": [
        {
          "output_type": "stream",
          "name": "stderr",
          "text": [
            "/usr/local/lib/python3.10/dist-packages/librosa/feature/spectral.py:2143: UserWarning: Empty filters detected in mel frequency basis. Some channels will produce empty responses. Try increasing your sampling rate (and fmax) or reducing n_mels.\n",
            "  mel_basis = filters.mel(sr=sr, n_fft=n_fft, **kwargs)\n"
          ]
        }
      ]
    },
    {
      "cell_type": "markdown",
      "source": [
        "##Gapor Filter"
      ],
      "metadata": {
        "id": "6RMxjklO5XA4"
      }
    },
    {
      "cell_type": "code",
      "source": [
        "from scipy.fft import fft\n",
        "LowF = 5  # Example value for LowF\n",
        "HiF = 30  # Example value for HiF\n",
        "Fs = 100  # Example value for Fs\n",
        "Chs = 50  # Example value for Ch\n",
        "R=50\n",
        "H_Norm=np.zeros((+R*2,Chs),dtype=complex)\n",
        "Fc = librosa.mel_frequencies(n_mels=Chs, fmin=LowF, fmax=HiF, htk=False)\n",
        "Fcq=librosa.cqt_frequencies(n_bins=Chs, fmin=LowF, bins_per_octave=8, tuning=6.6)\n",
        "#freq_edges, freq_centres = emd.spectra.define_hist_bins(50, 3000, Ch, 'log')\n",
        "\n",
        "Lfcenters =Fs* (np.linspace(LowF/Fs, HiF/Fs, Chs))\n",
        "#CBw =25 + 75 * (1 + 1.25 * (Lfcenters / 1000) ** 2) ** 0.69\n",
        "CBw =np.ones(Chs)*2.0\n",
        "for m in range(0,Chs):\n",
        "    fc=Lfcenters[m]\n",
        "    alpha = np.sqrt(2*np.pi) * CBw[m] / Fs\n",
        "    Oc = 2 * np.pi * fc / Fs\n",
        "    indices = np.arange(-R + 1, R + 1)  # Generate array indices [-N+1:N]\n",
        "    g = np.exp(-1 * (alpha * indices) ** 2)\n",
        "    indices2 = np.arange(0, 2*R-0)  # Generate array indices [0:2*N-1]\n",
        "    c = np.cos(Oc * indices2)\n",
        "    h=g*c\n",
        "    H = fft(h.T)\n",
        "    Norm=np.max(H)\n",
        "    H_Norm[:,m] = H/Norm"
      ],
      "metadata": {
        "id": "URxHcFlSAUDz"
      },
      "execution_count": 10,
      "outputs": []
    },
    {
      "cell_type": "code",
      "source": [
        "del   Fcq,Fc,CBw,LowF, HiF,Fs,R, Lfcenters, fc, alpha, Oc, indices, g, indices2, c, h, H, Norm, m"
      ],
      "metadata": {
        "id": "SrrOrxiVBdw0"
      },
      "execution_count": null,
      "outputs": []
    },
    {
      "cell_type": "code",
      "source": [
        "del X_test, X_train, y_pred, y_test,y_train"
      ],
      "metadata": {
        "id": "YMrLgVx8Bo9r"
      },
      "execution_count": null,
      "outputs": []
    },
    {
      "cell_type": "code",
      "source": [
        "del s"
      ],
      "metadata": {
        "id": "uTDmKbD0AKlS"
      },
      "execution_count": null,
      "outputs": []
    },
    {
      "cell_type": "markdown",
      "source": [
        "##WIF2011"
      ],
      "metadata": {
        "id": "sx2pYixfCPBN"
      }
    },
    {
      "cell_type": "code",
      "source": [
        "from scipy.fft import ifft\n",
        "from scipy.signal import hilbert\n",
        "i=4\n",
        "nfft=H_Norm.shape[0]\n",
        "Test = np.ones((i,Chs))\n",
        "wIF = np.ones((Tn,i,Chs))\n",
        "fs=100\n",
        "\n",
        "for t in range(0,Tn):\n",
        "    x=Frames[t,:]\n",
        "    step=0\n",
        "    for j in range(0,i):\n",
        "        xc=x[step:step+100]\n",
        "        #w=(xc*np.hamming(nfft))\n",
        "        X=fft(xc,n=nfft)\n",
        "        for c in range(0,Chs):\n",
        "            Xf=(X)*(H_Norm[:,c])\n",
        "            xf=np.real(ifft(Xf))\n",
        "            #En=(np.abs((X)@(H_Norm[:,c])))\n",
        "            ht =hilbert(xf)\n",
        "            real_part = np.real(ht)\n",
        "            imag_part = np.imag(ht)\n",
        "            iamp = np.sqrt(real_part**2 + imag_part**2)\n",
        "            phase = np.unwrap(np.angle(ht))\n",
        "            diff_phase = np.diff(phase)\n",
        "            ifreq = fs * diff_phase / (2 * np.pi)\n",
        "            IF=(np.sum(ifreq * iamp[:-1]**2)) / (np.sum(iamp[:-1]**2))\n",
        "            #eIF=complex(IF,En)\n",
        "            Test[j,c] =IF\n",
        "            wIF[t,j,c] = IF\n",
        "            #wIF[t,j,c] =np.real(eIF)\n",
        "        step=step+50"
      ],
      "metadata": {
        "id": "ZTeSCZn1B_F8"
      },
      "execution_count": 14,
      "outputs": []
    },
    {
      "cell_type": "code",
      "source": [
        "del nfft,t,x,step,j,xc,X,c,Xf,xf,ht,real_part,imag_part,phase,iamp,diff_phase,ifreq,IF,Test"
      ],
      "metadata": {
        "id": "JttW_KpeCyOP"
      },
      "execution_count": 15,
      "outputs": []
    },
    {
      "cell_type": "code",
      "source": [
        "plt.plot(Test)"
      ],
      "metadata": {
        "id": "CxqLirxXGBtu"
      },
      "execution_count": null,
      "outputs": []
    },
    {
      "cell_type": "code",
      "source": [
        "from sklearn.discriminant_analysis import LinearDiscriminantAnalysis\n",
        "colors = ['purple','red','tan', 'blue', 'brown', 'green', 'pink', 'cyan', 'navy', 'orange', 'yellow','black']\n",
        "vectorizer = np.vectorize(lambda x: colors[x % len(colors)])"
      ],
      "metadata": {
        "id": "_20EeQQlupib"
      },
      "execution_count": 17,
      "outputs": []
    },
    {
      "cell_type": "code",
      "source": [
        "Y=Tag"
      ],
      "metadata": {
        "id": "eERXhvvHv_BM"
      },
      "execution_count": null,
      "outputs": []
    },
    {
      "cell_type": "code",
      "source": [
        "ID = wIF.reshape(200, -1)\n",
        "#ID=ID_IF2\n",
        "#ID=wIF2088"
      ],
      "metadata": {
        "id": "Nh2xgYCqB6DH"
      },
      "execution_count": 18,
      "outputs": []
    },
    {
      "cell_type": "code",
      "source": [
        "lda = LinearDiscriminantAnalysis(n_components=1)\n",
        "X_r = lda.fit(ID, Y).transform(ID)"
      ],
      "metadata": {
        "id": "-Hpvy-I9wHi7"
      },
      "execution_count": null,
      "outputs": []
    },
    {
      "cell_type": "code",
      "source": [
        "plt.scatter(X_r[:,0],X_r[:,0],c=vectorizer(Y.astype(int)))\n"
      ],
      "metadata": {
        "colab": {
          "base_uri": "https://localhost:8080/",
          "height": 148
        },
        "id": "NmeuQOrfy6Gh",
        "outputId": "c66d4d51-734f-467c-b516-5005f2413fec"
      },
      "execution_count": 20,
      "outputs": [
        {
          "output_type": "error",
          "ename": "NameError",
          "evalue": "name 'X_r' is not defined",
          "traceback": [
            "\u001b[0;31m---------------------------------------------------------------------------\u001b[0m",
            "\u001b[0;31mNameError\u001b[0m                                 Traceback (most recent call last)",
            "\u001b[0;32m<ipython-input-20-8526c1857c81>\u001b[0m in \u001b[0;36m<cell line: 1>\u001b[0;34m()\u001b[0m\n\u001b[0;32m----> 1\u001b[0;31m \u001b[0mplt\u001b[0m\u001b[0;34m.\u001b[0m\u001b[0mscatter\u001b[0m\u001b[0;34m(\u001b[0m\u001b[0mX_r\u001b[0m\u001b[0;34m[\u001b[0m\u001b[0;34m:\u001b[0m\u001b[0;34m,\u001b[0m\u001b[0;36m0\u001b[0m\u001b[0;34m]\u001b[0m\u001b[0;34m,\u001b[0m\u001b[0mX_r\u001b[0m\u001b[0;34m[\u001b[0m\u001b[0;34m:\u001b[0m\u001b[0;34m,\u001b[0m\u001b[0;36m0\u001b[0m\u001b[0;34m]\u001b[0m\u001b[0;34m,\u001b[0m\u001b[0mc\u001b[0m\u001b[0;34m=\u001b[0m\u001b[0mvectorizer\u001b[0m\u001b[0;34m(\u001b[0m\u001b[0mY\u001b[0m\u001b[0;34m.\u001b[0m\u001b[0mastype\u001b[0m\u001b[0;34m(\u001b[0m\u001b[0mint\u001b[0m\u001b[0;34m)\u001b[0m\u001b[0;34m)\u001b[0m\u001b[0;34m)\u001b[0m\u001b[0;34m\u001b[0m\u001b[0;34m\u001b[0m\u001b[0m\n\u001b[0m",
            "\u001b[0;31mNameError\u001b[0m: name 'X_r' is not defined"
          ]
        }
      ]
    },
    {
      "cell_type": "code",
      "source": [
        "plt.scatter(X_r[:,0],X_r[:,0],c=vectorizer(Y.astype(int)))\n"
      ],
      "metadata": {
        "colab": {
          "base_uri": "https://localhost:8080/",
          "height": 148
        },
        "id": "UEVaNSwLwT8d",
        "outputId": "9910cf2a-8ef6-4982-e395-7e6c97b168b7"
      },
      "execution_count": 21,
      "outputs": [
        {
          "output_type": "error",
          "ename": "NameError",
          "evalue": "name 'X_r' is not defined",
          "traceback": [
            "\u001b[0;31m---------------------------------------------------------------------------\u001b[0m",
            "\u001b[0;31mNameError\u001b[0m                                 Traceback (most recent call last)",
            "\u001b[0;32m<ipython-input-21-8526c1857c81>\u001b[0m in \u001b[0;36m<cell line: 1>\u001b[0;34m()\u001b[0m\n\u001b[0;32m----> 1\u001b[0;31m \u001b[0mplt\u001b[0m\u001b[0;34m.\u001b[0m\u001b[0mscatter\u001b[0m\u001b[0;34m(\u001b[0m\u001b[0mX_r\u001b[0m\u001b[0;34m[\u001b[0m\u001b[0;34m:\u001b[0m\u001b[0;34m,\u001b[0m\u001b[0;36m0\u001b[0m\u001b[0;34m]\u001b[0m\u001b[0;34m,\u001b[0m\u001b[0mX_r\u001b[0m\u001b[0;34m[\u001b[0m\u001b[0;34m:\u001b[0m\u001b[0;34m,\u001b[0m\u001b[0;36m0\u001b[0m\u001b[0;34m]\u001b[0m\u001b[0;34m,\u001b[0m\u001b[0mc\u001b[0m\u001b[0;34m=\u001b[0m\u001b[0mvectorizer\u001b[0m\u001b[0;34m(\u001b[0m\u001b[0mY\u001b[0m\u001b[0;34m.\u001b[0m\u001b[0mastype\u001b[0m\u001b[0;34m(\u001b[0m\u001b[0mint\u001b[0m\u001b[0;34m)\u001b[0m\u001b[0;34m)\u001b[0m\u001b[0;34m)\u001b[0m\u001b[0;34m\u001b[0m\u001b[0;34m\u001b[0m\u001b[0m\n\u001b[0m",
            "\u001b[0;31mNameError\u001b[0m: name 'X_r' is not defined"
          ]
        }
      ]
    },
    {
      "cell_type": "code",
      "source": [],
      "metadata": {
        "id": "8RLwNe-B89I7"
      },
      "execution_count": null,
      "outputs": []
    },
    {
      "cell_type": "code",
      "execution_count": null,
      "metadata": {
        "id": "CCkWxho0HgVK"
      },
      "outputs": [],
      "source": [
        "from sklearn.model_selection import train_test_split\n",
        "X_train, X_test, y_train, y_test = train_test_split(X_r, Y,test_size=0.5)\n",
        "\n",
        "#lda = LinearDiscriminantAnalysis(n_components=1)\n",
        "lda.fit(X_train, y_train)"
      ]
    },
    {
      "cell_type": "code",
      "execution_count": null,
      "metadata": {
        "id": "Cb-VqzPRISgg"
      },
      "outputs": [],
      "source": [
        "from sklearn.metrics import accuracy_score\n",
        "y_pred = lda.predict(X_test)\n",
        "print(accuracy_score(y_test, y_pred))"
      ]
    }
  ]
}